{
 "cells": [
  {
   "cell_type": "code",
   "execution_count": 7,
   "id": "0013ec4c",
   "metadata": {},
   "outputs": [],
   "source": [
    "import pandas as pd \n",
    "import matplotlib.pyplot as plt\n",
    "import scipy.stats as stats\n",
    "import numpy as npa\n",
    "import seaborn as sns\n",
    "from sklearn.preprocessing import LabelEncoder \n",
    "from sklearn.cluster import KMeans\n",
    "import os "
   ]
  },
  {
   "cell_type": "code",
   "execution_count": 10,
   "id": "ae1356e9",
   "metadata": {},
   "outputs": [
    {
     "name": "stdout",
     "output_type": "stream",
     "text": [
      "/home/abigail/Documents/Sephora_Regression/Notebooks\n"
     ]
    }
   ],
   "source": [
    "print(os.getcwd())"
   ]
  },
  {
   "cell_type": "code",
   "execution_count": 15,
   "id": "816615f5-a0b4-450f-bc7e-be77348cbf7d",
   "metadata": {
    "tags": []
   },
   "outputs": [],
   "source": [
    "\n",
    "df = pd.read_csv('../Data/product_info.csv')"
   ]
  },
  {
   "cell_type": "markdown",
   "id": "31e15aae",
   "metadata": {},
   "source": [
    "## Data Preparation "
   ]
  },
  {
   "cell_type": "markdown",
   "id": "8a58c711",
   "metadata": {},
   "source": [
    "The steps of the data preparations process are outlined below. \n",
    "\n",
    "<u>Detection and Treatment</u>\n",
    "1. Duplicate observations \n",
    "2. Missing values\n",
    "3. Outliers \n",
    "\n",
    "<u>Data Wrangling</u>\n",
    "1. Label Encode the categorical variables \n",
    "2. Group dependent variable(rating) using Kmeans clustering "
   ]
  },
  {
   "cell_type": "markdown",
   "id": "4708c64c",
   "metadata": {},
   "source": [
    "#### Cleaning "
   ]
  },
  {
   "cell_type": "markdown",
   "id": "6a8247c0",
   "metadata": {},
   "source": []
  },
  {
   "cell_type": "code",
   "execution_count": 2,
   "id": "29731d97",
   "metadata": {},
   "outputs": [
    {
     "data": {
      "text/plain": [
       "False    8494\n",
       "Name: count, dtype: int64"
      ]
     },
     "execution_count": 2,
     "metadata": {},
     "output_type": "execute_result"
    }
   ],
   "source": [
    "# Find Duplicates \n",
    "df.duplicated().value_counts()\n",
    "# No duplicates found = No Treatment "
   ]
  },
  {
   "cell_type": "code",
   "execution_count": 3,
   "id": "623aa9ee",
   "metadata": {},
   "outputs": [
    {
     "data": {
      "text/plain": [
       "product_id               0\n",
       "product_name             0\n",
       "brand_id                 0\n",
       "brand_name               0\n",
       "loves_count              0\n",
       "rating                 278\n",
       "reviews                278\n",
       "size                  1631\n",
       "variation_type        1444\n",
       "variation_value       1598\n",
       "variation_desc        7244\n",
       "ingredients            945\n",
       "price_usd                0\n",
       "value_price_usd       8043\n",
       "sale_price_usd        8224\n",
       "limited_edition          0\n",
       "new                      0\n",
       "online_only              0\n",
       "out_of_stock             0\n",
       "sephora_exclusive        0\n",
       "highlights            2207\n",
       "primary_category         0\n",
       "secondary_category       8\n",
       "tertiary_category      990\n",
       "child_count              0\n",
       "child_max_price       5740\n",
       "child_min_price       5740\n",
       "dtype: int64"
      ]
     },
     "execution_count": 3,
     "metadata": {},
     "output_type": "execute_result"
    }
   ],
   "source": [
    "# Find Missing Values \n",
    "df.isnull().sum()"
   ]
  },
  {
   "cell_type": "code",
   "execution_count": 4,
   "id": "e2d7d75c",
   "metadata": {},
   "outputs": [],
   "source": [
    "# Drop columns with too many missing values  \n",
    "df = df.drop(['variation_type','variation_value','variation_desc','ingredients','value_price_usd','sale_price_usd','highlights','tertiary_category','child_max_price','child_min_price'], axis=1)"
   ]
  },
  {
   "cell_type": "code",
   "execution_count": 5,
   "id": "5efe8d31",
   "metadata": {},
   "outputs": [],
   "source": [
    "# Remove all rows with missing values in rating column: This should also remove all missing values in the review column\n",
    "df = df.dropna(subset = ['rating'])"
   ]
  },
  {
   "cell_type": "code",
   "execution_count": 6,
   "id": "30238e43",
   "metadata": {},
   "outputs": [],
   "source": [
    "# Impute secondary_category with mode \n",
    "# Not imputing missing values for size: During encoding missing value will be represented by 0 \n",
    "df['secondary_category'] = df['secondary_category'].fillna(df['secondary_category'].mode()[0])"
   ]
  },
  {
   "cell_type": "code",
   "execution_count": 7,
   "id": "05cab79d",
   "metadata": {},
   "outputs": [],
   "source": [
    "# Not imputing missing values for size: During encoding missing value will be represented by 0 \n",
    "df['size'].fillna(0,inplace=True)"
   ]
  },
  {
   "cell_type": "code",
   "execution_count": 8,
   "id": "ea5cb400",
   "metadata": {},
   "outputs": [
    {
     "data": {
      "text/plain": [
       "product_id            0\n",
       "product_name          0\n",
       "brand_id              0\n",
       "brand_name            0\n",
       "loves_count           0\n",
       "rating                0\n",
       "reviews               0\n",
       "size                  0\n",
       "price_usd             0\n",
       "limited_edition       0\n",
       "new                   0\n",
       "online_only           0\n",
       "out_of_stock          0\n",
       "sephora_exclusive     0\n",
       "primary_category      0\n",
       "secondary_category    0\n",
       "child_count           0\n",
       "dtype: int64"
      ]
     },
     "execution_count": 8,
     "metadata": {},
     "output_type": "execute_result"
    }
   ],
   "source": [
    "df.isnull().sum()"
   ]
  },
  {
   "cell_type": "code",
   "execution_count": 9,
   "id": "1cf1f2a3",
   "metadata": {},
   "outputs": [
    {
     "data": {
      "text/plain": [
       "(8216, 17)"
      ]
     },
     "execution_count": 9,
     "metadata": {},
     "output_type": "execute_result"
    }
   ],
   "source": [
    "df.shape"
   ]
  },
  {
   "cell_type": "code",
   "execution_count": 11,
   "id": "e4150643",
   "metadata": {},
   "outputs": [
    {
     "name": "stdout",
     "output_type": "stream",
     "text": [
      "Stats with Outliers:  count    8216.000000\n",
      "mean       51.228229\n",
      "std        53.406409\n",
      "min         3.000000\n",
      "25%        25.000000\n",
      "50%        35.000000\n",
      "75%        58.000000\n",
      "max      1900.000000\n",
      "Name: price_usd, dtype: float64\n",
      "35.0\n"
     ]
    },
    {
     "data": {
      "image/png": "[encoded data removed]",
      "text/plain": [
       "<Figure size 640x480 with 1 Axes>"
      ]
     },
     "metadata": {},
     "output_type": "display_data"
    }
   ],
   "source": [
    "# Find outliers with boxplot \n",
    "sns.boxplot(df['price_usd'])\n",
    "print('Stats with Outliers: ',df['price_usd'].describe())\n",
    "print(df['price_usd'].median())\n",
    "\n",
    "# Dont need z_score: remove only max outlier\n",
    "\n"
   ]
  },
  {
   "cell_type": "code",
   "execution_count": 12,
   "id": "910dec61",
   "metadata": {},
   "outputs": [
    {
     "name": "stdout",
     "output_type": "stream",
     "text": [
      "Stats with Imputed Outliers:  count    8216.000000\n",
      "mean       51.001233\n",
      "std        49.357493\n",
      "min         3.000000\n",
      "25%        25.000000\n",
      "50%        35.000000\n",
      "75%        58.000000\n",
      "max       465.000000\n",
      "Name: price_usd, dtype: float64\n",
      "35.0\n"
     ]
    },
    {
     "data": {
      "image/png": "[encoded data removed]",
      "text/plain": [
       "<Figure size 640x480 with 1 Axes>"
      ]
     },
     "metadata": {},
     "output_type": "display_data"
    }
   ],
   "source": [
    "# Remove all above 700\n",
    "df['price_usd'] = np.where(df['price_usd'] > 700,np.nan,df['price_usd'])\n",
    "df['price_usd'].fillna(df['price_usd'].median(), inplace = True)\n",
    "sns.boxplot(df['price_usd'])\n",
    "\n",
    "#Verify after treatment \n",
    "print('Stats with Imputed Outliers: ',df['price_usd'].describe())\n",
    "print(df['price_usd'].median())\n"
   ]
  },
  {
   "cell_type": "code",
   "execution_count": 13,
   "id": "e43de675",
   "metadata": {},
   "outputs": [
    {
     "name": "stdout",
     "output_type": "stream",
     "text": [
      "Stats with Outliers:  count    8216.000000\n",
      "mean        1.678797\n",
      "std         5.458718\n",
      "min         0.000000\n",
      "25%         0.000000\n",
      "50%         0.000000\n",
      "75%         1.000000\n",
      "max       105.000000\n",
      "Name: child_count, dtype: float64\n",
      "0.0\n"
     ]
    },
    {
     "data": {
      "image/png": "[encoded data removed]",
      "text/plain": [
       "<Figure size 640x480 with 1 Axes>"
      ]
     },
     "metadata": {},
     "output_type": "display_data"
    }
   ],
   "source": [
    "#Find z_score : new column will be deleted later \n",
    "df['z_child'] = stats.zscore(df['child_count'])\n",
    "\n",
    "#Visualize before treatment \n",
    "sns.boxplot(df['child_count'])\n",
    "print('Stats with Outliers: ',df['child_count'].describe())\n",
    "print(df['child_count'].median())"
   ]
  },
  {
   "cell_type": "code",
   "execution_count": 14,
   "id": "ee0cf5e2",
   "metadata": {},
   "outputs": [
    {
     "name": "stdout",
     "output_type": "stream",
     "text": [
      "Stats with Imputed Outliers:  count    8216.000000\n",
      "mean        0.948759\n",
      "std         2.293111\n",
      "min         0.000000\n",
      "25%         0.000000\n",
      "50%         0.000000\n",
      "75%         1.000000\n",
      "max        18.000000\n",
      "Name: child_count, dtype: float64\n",
      "0.0\n"
     ]
    },
    {
     "data": {
      "image/png": "[encoded data removed]",
      "text/plain": [
       "<Figure size 640x480 with 1 Axes>"
      ]
     },
     "metadata": {},
     "output_type": "display_data"
    }
   ],
   "source": [
    "#Impute with median where z_score > 3\n",
    "df['child_count'] = np.where(df['z_child']>3,np.nan,df['child_count'])\n",
    "df['child_count'].fillna(df['child_count'].median(), inplace = True)\n",
    "\n",
    "#Verify after Imputation \n",
    "sns.boxplot(df['child_count'])\n",
    "print('Stats with Imputed Outliers: ',df['child_count'].describe())\n",
    "print(df['child_count'].median())\n"
   ]
  },
  {
   "cell_type": "markdown",
   "id": "60be9039",
   "metadata": {},
   "source": [
    "#### Wrangling (Encoding)"
   ]
  },
  {
   "cell_type": "code",
   "execution_count": 16,
   "id": "2ded0de7",
   "metadata": {},
   "outputs": [],
   "source": [
    "# Label encode primary_category \n",
    "encoder = LabelEncoder()\n",
    "df['primary_category_label'] = encoder.fit_transform(df['primary_category'])"
   ]
  },
  {
   "cell_type": "code",
   "execution_count": 17,
   "id": "57759fc2",
   "metadata": {},
   "outputs": [],
   "source": [
    "# Label encode secondary_category \n",
    "\n",
    "df['secondary_category_label'] = encoder.fit_transform(df['secondary_category'])"
   ]
  },
  {
   "cell_type": "code",
   "execution_count": 18,
   "id": "c9942149",
   "metadata": {},
   "outputs": [
    {
     "name": "stdout",
     "output_type": "stream",
     "text": [
      "0       0\n",
      "1       4\n",
      "2       4\n",
      "3       4\n",
      "4       4\n",
      "       ..\n",
      "8487    0\n",
      "8488    0\n",
      "8489    0\n",
      "8490    5\n",
      "8491    0\n",
      "Name: size, Length: 8216, dtype: int64\n"
     ]
    }
   ],
   "source": [
    "# Change labels for size \n",
    "# no size = 0 , 0.5 oz/ 15 mL = 1, 1 oz/ 30 mL = 2, 1.7 oz/ 50 mL = 3, 3.4 oz/ 100 mL = 4 , other = 5 \n",
    "df['size'] = df['size']\n",
    "dict_over = {'size':{\"0.5 oz/ 15 mL\":1,\"1 oz/ 30 mL\": 2,\"1.7 oz/ 50 mL\":3,\"3.4 oz/ 100 mL\":4}}\n",
    "df.replace(dict_over, inplace = True)\n",
    "df['size']\n",
    "\n",
    "for i in df['size']:\n",
    "    if i not in (0,1,2,3,4):\n",
    "        df['size'] == df['size'].replace(i,5, inplace= True)\n",
    "print(df['size'])"
   ]
  },
  {
   "cell_type": "code",
   "execution_count": 20,
   "id": "d58eb2d6",
   "metadata": {},
   "outputs": [
    {
     "data": {
      "text/plain": [
       "Text(0.5, 1.0, 'Product Rating Distribution')"
      ]
     },
     "execution_count": 20,
     "metadata": {},
     "output_type": "execute_result"
    },
    {
     "data": {
      "image/png": "[encoded data removed]",
      "text/plain": [
       "<Figure size 640x480 with 1 Axes>"
      ]
     },
     "metadata": {},
     "output_type": "display_data"
    }
   ],
   "source": [
    "plt.hist(df['rating'])\n",
    "plt.title('Product Rating Distribution')"
   ]
  },
  {
   "cell_type": "code",
   "execution_count": 21,
   "id": "dcc272d7",
   "metadata": {},
   "outputs": [
    {
     "name": "stderr",
     "output_type": "stream",
     "text": [
      "/home/abigail/anaconda3/lib/python3.11/site-packages/sklearn/cluster/_kmeans.py:1412: FutureWarning: The default value of `n_init` will change from 10 to 'auto' in 1.4. Set the value of `n_init` explicitly to suppress the warning\n",
      "  super()._check_params_vs_input(X, default_n_init=10)\n"
     ]
    }
   ],
   "source": [
    "# Use Kmeans clustering to identify groups of ratings\n",
    "# 5 clusters for ratings 1-5\n",
    "\n",
    "X = df[['rating']].values.reshape(-1,1) #reshape single-column bc kmeans expects 2D array\n",
    "\n",
    "kmeans = KMeans(n_clusters=5,random_state=0)\n",
    "kmeans.fit(X)\n",
    "\n",
    "labels = kmeans.labels_\n",
    "centroids = kmeans.cluster_centers_"
   ]
  },
  {
   "cell_type": "code",
   "execution_count": 22,
   "id": "fe0b09af",
   "metadata": {},
   "outputs": [
    {
     "data": {
      "text/html": [
       "<div>\n",
       "<style scoped>\n",
       "    .dataframe tbody tr th:only-of-type {\n",
       "        vertical-align: middle;\n",
       "    }\n",
       "\n",
       "    .dataframe tbody tr th {\n",
       "        vertical-align: top;\n",
       "    }\n",
       "\n",
       "    .dataframe thead th {\n",
       "        text-align: right;\n",
       "    }\n",
       "</style>\n",
       "<table border=\"1\" class=\"dataframe\">\n",
       "  <thead>\n",
       "    <tr style=\"text-align: right;\">\n",
       "      <th></th>\n",
       "      <th>0</th>\n",
       "    </tr>\n",
       "  </thead>\n",
       "  <tbody>\n",
       "    <tr>\n",
       "      <th>0</th>\n",
       "      <td>4.721064</td>\n",
       "    </tr>\n",
       "    <tr>\n",
       "      <th>1</th>\n",
       "      <td>3.348646</td>\n",
       "    </tr>\n",
       "    <tr>\n",
       "      <th>2</th>\n",
       "      <td>4.344363</td>\n",
       "    </tr>\n",
       "    <tr>\n",
       "      <th>3</th>\n",
       "      <td>2.229989</td>\n",
       "    </tr>\n",
       "    <tr>\n",
       "      <th>4</th>\n",
       "      <td>3.938616</td>\n",
       "    </tr>\n",
       "  </tbody>\n",
       "</table>\n",
       "</div>"
      ],
      "text/plain": [
       "          0\n",
       "0  4.721064\n",
       "1  3.348646\n",
       "2  4.344363\n",
       "3  2.229989\n",
       "4  3.938616"
      ]
     },
     "execution_count": 22,
     "metadata": {},
     "output_type": "execute_result"
    }
   ],
   "source": [
    "kmeans_df = pd.DataFrame(centroids)\n",
    "kmeans_df"
   ]
  },
  {
   "cell_type": "code",
   "execution_count": 23,
   "id": "4d2f8b08",
   "metadata": {},
   "outputs": [],
   "source": [
    "#Change labels\n",
    "kmeans.labels_[kmeans.labels_ == 0] = 10\n",
    "kmeans.labels_[kmeans.labels_ == 1] = 7\n",
    "kmeans.labels_[kmeans.labels_ == 2] = 9\n",
    "kmeans.labels_[kmeans.labels_ == 3] = 6\n",
    "kmeans.labels_[kmeans.labels_ == 4] = 8\n"
   ]
  },
  {
   "cell_type": "code",
   "execution_count": 24,
   "id": "cd8e494d",
   "metadata": {},
   "outputs": [],
   "source": [
    "#Change labels to represent 1-5 stars\n",
    "kmeans.labels_[kmeans.labels_ == 10] = 5\n",
    "kmeans.labels_[kmeans.labels_ == 9] = 4\n",
    "kmeans.labels_[kmeans.labels_ == 8] = 3\n",
    "kmeans.labels_[kmeans.labels_ == 7] = 2\n",
    "kmeans.labels_[kmeans.labels_ == 6] = 1"
   ]
  },
  {
   "cell_type": "code",
   "execution_count": 25,
   "id": "5cdc14cb",
   "metadata": {},
   "outputs": [
    {
     "data": {
      "text/html": [
       "<div>\n",
       "<style scoped>\n",
       "    .dataframe tbody tr th:only-of-type {\n",
       "        vertical-align: middle;\n",
       "    }\n",
       "\n",
       "    .dataframe tbody tr th {\n",
       "        vertical-align: top;\n",
       "    }\n",
       "\n",
       "    .dataframe thead th {\n",
       "        text-align: right;\n",
       "    }\n",
       "</style>\n",
       "<table border=\"1\" class=\"dataframe\">\n",
       "  <thead>\n",
       "    <tr style=\"text-align: right;\">\n",
       "      <th></th>\n",
       "      <th>rating</th>\n",
       "      <th>rating_clusters</th>\n",
       "    </tr>\n",
       "  </thead>\n",
       "  <tbody>\n",
       "    <tr>\n",
       "      <th>0</th>\n",
       "      <td>3.6364</td>\n",
       "      <td>2</td>\n",
       "    </tr>\n",
       "    <tr>\n",
       "      <th>1</th>\n",
       "      <td>4.1538</td>\n",
       "      <td>4</td>\n",
       "    </tr>\n",
       "    <tr>\n",
       "      <th>2</th>\n",
       "      <td>4.2500</td>\n",
       "      <td>4</td>\n",
       "    </tr>\n",
       "    <tr>\n",
       "      <th>3</th>\n",
       "      <td>4.4762</td>\n",
       "      <td>4</td>\n",
       "    </tr>\n",
       "    <tr>\n",
       "      <th>4</th>\n",
       "      <td>3.2308</td>\n",
       "      <td>2</td>\n",
       "    </tr>\n",
       "    <tr>\n",
       "      <th>...</th>\n",
       "      <td>...</td>\n",
       "      <td>...</td>\n",
       "    </tr>\n",
       "    <tr>\n",
       "      <th>8487</th>\n",
       "      <td>3.5000</td>\n",
       "      <td>2</td>\n",
       "    </tr>\n",
       "    <tr>\n",
       "      <th>8488</th>\n",
       "      <td>5.0000</td>\n",
       "      <td>5</td>\n",
       "    </tr>\n",
       "    <tr>\n",
       "      <th>8489</th>\n",
       "      <td>4.4286</td>\n",
       "      <td>4</td>\n",
       "    </tr>\n",
       "    <tr>\n",
       "      <th>8490</th>\n",
       "      <td>4.6367</td>\n",
       "      <td>5</td>\n",
       "    </tr>\n",
       "    <tr>\n",
       "      <th>8491</th>\n",
       "      <td>5.0000</td>\n",
       "      <td>5</td>\n",
       "    </tr>\n",
       "  </tbody>\n",
       "</table>\n",
       "<p>8216 rows × 2 columns</p>\n",
       "</div>"
      ],
      "text/plain": [
       "      rating  rating_clusters\n",
       "0     3.6364                2\n",
       "1     4.1538                4\n",
       "2     4.2500                4\n",
       "3     4.4762                4\n",
       "4     3.2308                2\n",
       "...      ...              ...\n",
       "8487  3.5000                2\n",
       "8488  5.0000                5\n",
       "8489  4.4286                4\n",
       "8490  4.6367                5\n",
       "8491  5.0000                5\n",
       "\n",
       "[8216 rows x 2 columns]"
      ]
     },
     "execution_count": 25,
     "metadata": {},
     "output_type": "execute_result"
    }
   ],
   "source": [
    "df['rating_clusters'] = labels\n",
    "df[['rating','rating_clusters']]"
   ]
  },
  {
   "cell_type": "markdown",
   "id": "21bf249c",
   "metadata": {},
   "source": [
    "#### Remove Columns "
   ]
  },
  {
   "cell_type": "code",
   "execution_count": null,
   "id": "6f32edf1",
   "metadata": {},
   "outputs": [],
   "source": [
    "df = df.drop(['product_id','brand_name','loves_count','product_name','z_child'], axis=1)"
   ]
  },
  {
   "cell_type": "code",
   "execution_count": null,
   "id": "77d8fca6",
   "metadata": {},
   "outputs": [],
   "source": [
    "print(df)"
   ]
  },
  {
   "cell_type": "markdown",
   "id": "f0ae747c",
   "metadata": {},
   "source": [
    "####"
   ]
  },
  {
   "cell_type": "code",
   "execution_count": null,
   "id": "179ca74b",
   "metadata": {},
   "outputs": [],
   "source": [
    "#Export \n",
    "path = '/home/abigail/Documents/Sephora_Regression/Data'\n",
    "df.to_csv(path,'cleaned_data.csv')"
   ]
  }
 ],
 "metadata": {
  "kernelspec": {
   "display_name": "Python 3 (ipykernel)",
   "language": "python",
   "name": "python3"
  },
  "language_info": {
   "codemirror_mode": {
    "name": "ipython",
    "version": 3
   },
   "file_extension": ".py",
   "mimetype": "text/x-python",
   "name": "python",
   "nbconvert_exporter": "python",
   "pygments_lexer": "ipython3",
   "version": "3.11.5"
  }
 },
 "nbformat": 4,
 "nbformat_minor": 5
}
