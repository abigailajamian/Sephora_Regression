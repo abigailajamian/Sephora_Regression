{
 "cells": [
  {
   "cell_type": "code",
   "execution_count": null,
   "metadata": {},
   "outputs": [],
   "source": [
    "import pandas as pd \n",
    "df = pd.read_csv('/../Data/cleaned_data.csv')"
   ]
  },
  {
   "cell_type": "code",
   "execution_count": null,
   "metadata": {},
   "outputs": [],
   "source": [
    "import matplotlib.pyplot as plt"
   ]
  },
  {
   "cell_type": "markdown",
   "metadata": {},
   "source": [
    "#### Univariate (visuals of non-encoded variables)"
   ]
  },
  {
   "cell_type": "code",
   "execution_count": null,
   "metadata": {},
   "outputs": [],
   "source": [
    "# Brand_id\n",
    "plt.hist(df['brand_id'])\n",
    "plt.title('Brand Distribution')\n",
    "plt.xlabel('Brand ID')\n",
    "plt.ylabel('Number of Products')\n",
    "plt.show()"
   ]
  },
  {
   "cell_type": "code",
   "execution_count": null,
   "metadata": {},
   "outputs": [],
   "source": [
    "#rating before encoding\n",
    "plt.hist(df['rating'])\n",
    "plt.title('Rating Distribution before Clustering')\n",
    "plt.xlabel('Rating')\n",
    "plt.ylabel('Number of Products')\n",
    "plt.show()\n",
    "# rating groups \n",
    "plt.hist(df['rating_clusters'])\n",
    "plt.title('Rating Distribution')\n",
    "plt.xlabel('Rating Cluster')\n",
    "plt.ylabel('Number of Products')\n",
    "plt.show()\n"
   ]
  },
  {
   "cell_type": "code",
   "execution_count": null,
   "metadata": {},
   "outputs": [],
   "source": [
    "# Reviews Distribution \n",
    "plt.hist(df['reviews'])\n",
    "plt.title('Reviews Distribution')\n",
    "plt.xlabel('Number of Reviews')\n",
    "plt.ylabel('Number of Products')\n",
    "plt.show()"
   ]
  },
  {
   "cell_type": "code",
   "execution_count": null,
   "metadata": {},
   "outputs": [],
   "source": [
    "# Product Size \n",
    "plt.hist(df['size'])\n",
    "plt.title('Product Size Distribution')\n",
    "plt.xlabel('Product Size Label')\n",
    "plt.ylabel('Number of Products')\n",
    "plt.show()"
   ]
  },
  {
   "cell_type": "code",
   "execution_count": null,
   "metadata": {},
   "outputs": [],
   "source": [
    "# Price\n",
    "plt.hist(df['price_usd'])\n",
    "plt.title('Price Distribution')\n",
    "plt.xlabel('Price (USD)')\n",
    "plt.ylabel('Number of Products')\n",
    "plt.show()"
   ]
  },
  {
   "cell_type": "code",
   "execution_count": null,
   "metadata": {},
   "outputs": [],
   "source": [
    "# Limited Edition\n",
    "plt.hist(df['limited_edition'])\n",
    "plt.title('Limited Edition Products')\n",
    "plt.xlabel('Limited Edition')\n",
    "plt.ylabel('Number of Products')\n",
    "plt.show()"
   ]
  },
  {
   "cell_type": "code",
   "execution_count": null,
   "metadata": {},
   "outputs": [],
   "source": [
    "# new\n",
    "plt.hist(df['new'])\n",
    "plt.title('New Products')\n",
    "plt.xlabel('New')\n",
    "plt.ylabel('Number of Products')\n",
    "plt.show()"
   ]
  },
  {
   "cell_type": "code",
   "execution_count": null,
   "metadata": {},
   "outputs": [],
   "source": [
    "# new\n",
    "plt.hist(df['new'])\n",
    "plt.title('New Products')\n",
    "plt.xlabel('New')\n",
    "plt.ylabel('Number of Products')\n",
    "plt.show()"
   ]
  },
  {
   "cell_type": "code",
   "execution_count": null,
   "metadata": {},
   "outputs": [],
   "source": [
    "# online_only\n",
    "plt.hist(df['online_only'])\n",
    "plt.title('Online Only Products')\n",
    "plt.xlabel('Online Only')\n",
    "plt.ylabel('Number of Products')\n",
    "plt.show()"
   ]
  },
  {
   "cell_type": "code",
   "execution_count": null,
   "metadata": {},
   "outputs": [],
   "source": [
    "# out_of_stock\n",
    "plt.hist(df['out_of_stock'])\n",
    "plt.title('Out of Stock Products')\n",
    "plt.xlabel('Out of Stock Only')\n",
    "plt.ylabel('Number of Products')\n",
    "plt.show()"
   ]
  },
  {
   "cell_type": "code",
   "execution_count": null,
   "metadata": {},
   "outputs": [],
   "source": [
    "# sephora_exclusive\n",
    "plt.hist(df['sephora_exclusive'])\n",
    "plt.title('Sephora Exclusive Products')\n",
    "plt.xlabel('Sephora Exclusive')\n",
    "plt.ylabel('Number of Products')\n",
    "plt.show()"
   ]
  },
  {
   "cell_type": "code",
   "execution_count": null,
   "metadata": {},
   "outputs": [],
   "source": [
    "# sephora_exclusive\n",
    "plt.hist(df['sephora_exclusive'])\n",
    "plt.title('Sephora Exclusive Products')\n",
    "plt.xlabel('Sephora Exclusive')\n",
    "plt.ylabel('Number of Products')\n",
    "plt.show()"
   ]
  },
  {
   "cell_type": "code",
   "execution_count": null,
   "metadata": {},
   "outputs": [],
   "source": [
    "# primary_category\n",
    "plt.figure(figsize=(10, 5))\n",
    "plt.hist(df['primary_category'])\n",
    "plt.title('Primary Categories Distribution')\n",
    "plt.xlabel('Primary Categories ')\n",
    "plt.ylabel('Number of Products')\n",
    "plt.show()"
   ]
  },
  {
   "cell_type": "code",
   "execution_count": null,
   "metadata": {},
   "outputs": [],
   "source": [
    "# secondary_category\n",
    "plt.hist(df['secondary_category'])\n",
    "plt.title('Secondary Categories Distribution')\n",
    "plt.xlabel('Secondary Categories ')\n",
    "plt.ylabel('Number of Products')\n",
    "plt.show()"
   ]
  },
  {
   "cell_type": "markdown",
   "metadata": {},
   "source": [
    "#### Bivariate Analysis"
   ]
  },
  {
   "cell_type": "code",
   "execution_count": null,
   "metadata": {},
   "outputs": [],
   "source": [
    "import seaborn as sns"
   ]
  },
  {
   "cell_type": "code",
   "execution_count": null,
   "metadata": {},
   "outputs": [],
   "source": [
    "pd.crosstab(df['brand_id'],df['rating_clusters'])"
   ]
  },
  {
   "cell_type": "code",
   "execution_count": null,
   "metadata": {},
   "outputs": [],
   "source": [
    "sns.boxplot(x='rating_clusters', y='reviews', data=df)\n",
    "plt.title('Reviews vs Ratings')\n",
    "plt.xlabel('Product Rating')\n",
    "plt.ylabel('Number of Reviews')\n",
    "plt.show()"
   ]
  },
  {
   "cell_type": "code",
   "execution_count": null,
   "metadata": {},
   "outputs": [],
   "source": [
    "pd.crosstab(df['size'],df['rating_clusters'])"
   ]
  },
  {
   "cell_type": "code",
   "execution_count": null,
   "metadata": {},
   "outputs": [],
   "source": [
    "sns.boxplot(x='rating_clusters', y='price_usd', data=df)\n",
    "plt.title('Price vs Ratings')\n",
    "plt.xlabel('Product Rating')\n",
    "plt.ylabel('Price (USD)')\n",
    "plt.show()"
   ]
  },
  {
   "cell_type": "code",
   "execution_count": null,
   "metadata": {},
   "outputs": [],
   "source": [
    "df.groupby(['limited_edition', 'rating_clusters']).size().unstack().plot(kind='bar', stacked=True)\n",
    "plt.title('Limited Edition Product Ratings')\n",
    "plt.xlabel('Limited Edition')\n",
    "plt.legend(title = 'Rating')\n",
    "plt.show()"
   ]
  },
  {
   "cell_type": "code",
   "execution_count": null,
   "metadata": {},
   "outputs": [],
   "source": [
    "df.groupby(['new', 'rating_clusters']).size().unstack().plot(kind='bar', stacked=True)\n",
    "plt.title('New Product Ratings')\n",
    "plt.xlabel('New')\n",
    "plt.legend(title = 'Rating')\n",
    "plt.show()"
   ]
  },
  {
   "cell_type": "code",
   "execution_count": null,
   "metadata": {},
   "outputs": [],
   "source": [
    "df.groupby(['online_only', 'rating_clusters']).size().unstack().plot(kind='bar', stacked=True)\n",
    "plt.title('Online Only Product Ratings')\n",
    "plt.xlabel('Online Only')\n",
    "plt.legend(title = 'Rating')\n",
    "plt.show()"
   ]
  },
  {
   "cell_type": "code",
   "execution_count": null,
   "metadata": {},
   "outputs": [],
   "source": [
    "df.groupby(['out_of_stock', 'rating_clusters']).size().unstack().plot(kind='bar', stacked=True)\n",
    "plt.title('Out of Stock Product Ratings')\n",
    "plt.xlabel('Out of Stock')\n",
    "plt.legend(title = 'Rating')\n",
    "plt.show()"
   ]
  },
  {
   "cell_type": "code",
   "execution_count": null,
   "metadata": {},
   "outputs": [],
   "source": [
    "df.groupby(['sephora_exclusive', 'rating_clusters']).size().unstack().plot(kind='bar', stacked=True)\n",
    "plt.title('Sephora Exclusive Product Ratings')\n",
    "plt.xlabel('Sephora Exclusive')\n",
    "plt.legend(title = 'Rating')\n",
    "plt.show()"
   ]
  },
  {
   "cell_type": "code",
   "execution_count": null,
   "metadata": {},
   "outputs": [],
   "source": [
    "df.groupby(['primary_category', 'rating_clusters']).size().unstack().plot(kind='bar', stacked=True)\n",
    "plt.title('Primary Category vs. Ratings')\n",
    "plt.xlabel('Primary Category')\n",
    "plt.legend(title = 'Rating')\n",
    "plt.show()"
   ]
  },
  {
   "cell_type": "code",
   "execution_count": null,
   "metadata": {},
   "outputs": [],
   "source": [
    "df.groupby(['secondary_category', 'rating_clusters']).size().unstack().plot(kind='bar', stacked=True)\n",
    "plt.title('Secondary Category vs. Ratings')\n",
    "plt.xlabel('Secondary Category')\n",
    "plt.legend(title = 'Rating')\n",
    "plt.show()"
   ]
  },
  {
   "cell_type": "code",
   "execution_count": null,
   "metadata": {},
   "outputs": [],
   "source": [
    "sns.boxplot(x='rating_clusters', y='child_count', data=df)\n",
    "plt.title('Number of Children Products vs Ratings')\n",
    "plt.xlabel('Product Rating')\n",
    "plt.ylabel('Number of Children Products')\n",
    "plt.show()"
   ]
  }
 ],
 "metadata": {
  "kernelspec": {
   "display_name": "Python 3",
   "language": "python",
   "name": "python3"
  },
  "language_info": {
   "codemirror_mode": {
    "name": "ipython",
    "version": 3
   },
   "file_extension": ".py",
   "mimetype": "text/x-python",
   "name": "python",
   "nbconvert_exporter": "python",
   "pygments_lexer": "ipython3",
   "version": "3.11.5"
  }
 },
 "nbformat": 4,
 "nbformat_minor": 2
}
